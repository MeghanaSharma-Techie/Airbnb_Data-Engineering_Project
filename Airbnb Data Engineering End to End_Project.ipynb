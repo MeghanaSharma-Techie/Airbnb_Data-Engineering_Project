{
 "cells": [
  {
   "cell_type": "markdown",
   "metadata": {
    "application/vnd.databricks.v1+cell": {
     "cellMetadata": {},
     "inputWidgets": {},
     "nuid": "33369e86-4d83-4e39-9f26-e2b97b631c10",
     "showTitle": false,
     "tableResultSettingsMap": {},
     "title": ""
    }
   },
   "source": [
    "#Read CSV file"
   ]
  },
  {
   "cell_type": "code",
   "execution_count": 0,
   "metadata": {
    "application/vnd.databricks.v1+cell": {
     "cellMetadata": {
      "byteLimit": 2048000,
      "rowLimit": 10000
     },
     "inputWidgets": {},
     "nuid": "6a2b2439-54d3-4818-a445-55bf0663002b",
     "showTitle": false,
     "tableResultSettingsMap": {},
     "title": ""
    }
   },
   "outputs": [],
   "source": [
    "airbnb_raw_df = spark.read.format(\"csv\").option(\"header\", \"true\").load(\"dbfs:/FileStore/shared_uploads/meghanasharma300@gmail.com/Airbnb_datasets.csv\")"
   ]
  },
  {
   "cell_type": "markdown",
   "metadata": {
    "application/vnd.databricks.v1+cell": {
     "cellMetadata": {},
     "inputWidgets": {},
     "nuid": "73997b6c-3545-489d-8987-231a91ea4143",
     "showTitle": false,
     "tableResultSettingsMap": {},
     "title": ""
    }
   },
   "source": [
    "#Define All lib here"
   ]
  },
  {
   "cell_type": "code",
   "execution_count": 0,
   "metadata": {
    "application/vnd.databricks.v1+cell": {
     "cellMetadata": {
      "byteLimit": 2048000,
      "rowLimit": 10000
     },
     "inputWidgets": {},
     "nuid": "44ae7fce-acfa-4aff-bc1e-fda33eb8366f",
     "showTitle": false,
     "tableResultSettingsMap": {},
     "title": ""
    }
   },
   "outputs": [],
   "source": [
    "from pyspark.sql.types import * \n",
    "from pyspark.sql.functions import *  \n",
    "     "
   ]
  },
  {
   "cell_type": "markdown",
   "metadata": {
    "application/vnd.databricks.v1+cell": {
     "cellMetadata": {},
     "inputWidgets": {},
     "nuid": "d5f5e823-7c50-49d0-bd2b-69b6d5aafb9e",
     "showTitle": false,
     "tableResultSettingsMap": {},
     "title": ""
    }
   },
   "source": [
    "#EXTRACT\n",
    "Read with Early Filtering (Optimization #1)-> (e.g., only listings from Brooklyn)"
   ]
  },
  {
   "cell_type": "code",
   "execution_count": 0,
   "metadata": {
    "application/vnd.databricks.v1+cell": {
     "cellMetadata": {
      "byteLimit": 2048000,
      "rowLimit": 10000
     },
     "inputWidgets": {},
     "nuid": "67d5ed9f-c125-4316-ac63-f8488eb1435a",
     "showTitle": false,
     "tableResultSettingsMap": {},
     "title": ""
    }
   },
   "outputs": [],
   "source": [
    "airbnb_raw_df = spark.read.format(\"csv\") \\\n",
    "    .option(\"header\", \"true\") \\\n",
    "    .option(\"inferSchema\", True) \\\n",
    "    .load(\"dbfs:/FileStore/shared_uploads/meghanasharma300@gmail.com/Airbnb_datasets.csv\") \\\n",
    "    .filter(col(\"neighbourhood_group\") == \"Brooklyn\")\n"
   ]
  },
  {
   "cell_type": "markdown",
   "metadata": {
    "application/vnd.databricks.v1+cell": {
     "cellMetadata": {},
     "inputWidgets": {},
     "nuid": "672996b4-8fa4-40b3-8d3d-08b1e79ae9cb",
     "showTitle": false,
     "tableResultSettingsMap": {},
     "title": ""
    }
   },
   "source": [
    "Checking Datatypes and few records"
   ]
  },
  {
   "cell_type": "code",
   "execution_count": 0,
   "metadata": {
    "application/vnd.databricks.v1+cell": {
     "cellMetadata": {
      "byteLimit": 2048000,
      "rowLimit": 10000
     },
     "inputWidgets": {},
     "nuid": "f239dbf1-8b26-4770-854a-ed10087314e3",
     "showTitle": false,
     "tableResultSettingsMap": {},
     "title": ""
    }
   },
   "outputs": [
    {
     "output_type": "stream",
     "name": "stdout",
     "output_type": "stream",
     "text": [
      "root\n |-- id: double (nullable = true)\n |-- name: string (nullable = true)\n |-- host_id: integer (nullable = true)\n |-- host_name: string (nullable = true)\n |-- neighbourhood_group: string (nullable = true)\n |-- neighbourhood: string (nullable = true)\n |-- latitude: double (nullable = true)\n |-- longitude: double (nullable = true)\n |-- room_type: string (nullable = true)\n |-- price: double (nullable = true)\n |-- minimum_nights: integer (nullable = true)\n |-- number_of_reviews: integer (nullable = true)\n |-- last_review: date (nullable = true)\n |-- reviews_per_month: double (nullable = true)\n |-- calculated_host_listings_count: integer (nullable = true)\n |-- availability_365: integer (nullable = true)\n |-- number_of_reviews_ltm: integer (nullable = true)\n |-- license: string (nullable = true)\n |-- rating: string (nullable = true)\n |-- bedrooms: string (nullable = true)\n |-- beds: integer (nullable = true)\n |-- baths: string (nullable = true)\n\n"
     ]
    },
    {
     "output_type": "display_data",
     "data": {
      "text/html": [
       "<style scoped>\n",
       "  .table-result-container {\n",
       "    max-height: 300px;\n",
       "    overflow: auto;\n",
       "  }\n",
       "  table, th, td {\n",
       "    border: 1px solid black;\n",
       "    border-collapse: collapse;\n",
       "  }\n",
       "  th, td {\n",
       "    padding: 5px;\n",
       "  }\n",
       "  th {\n",
       "    text-align: left;\n",
       "  }\n",
       "</style><div class='table-result-container'><table class='table-result'><thead style='background-color: white'><tr><th>id</th><th>name</th><th>host_id</th><th>host_name</th><th>neighbourhood_group</th><th>neighbourhood</th><th>latitude</th><th>longitude</th><th>room_type</th><th>price</th><th>minimum_nights</th><th>number_of_reviews</th><th>last_review</th><th>reviews_per_month</th><th>calculated_host_listings_count</th><th>availability_365</th><th>number_of_reviews_ltm</th><th>license</th><th>rating</th><th>bedrooms</th><th>beds</th><th>baths</th></tr></thead><tbody><tr><td>1312228.0</td><td>Rental unit in Brooklyn · ★5.0 · 1 bedroom</td><td>7130382</td><td>Walter</td><td>Brooklyn</td><td>Clinton Hill</td><td>40.68371</td><td>-73.96461</td><td>Private room</td><td>55.0</td><td>30</td><td>3</td><td>2015-12-20</td><td>0.03</td><td>1</td><td>0</td><td>0</td><td>No License</td><td>5</td><td>1</td><td>1</td><td>Not specified</td></tr><tr><td>1.9280212E7</td><td>Rental unit in Brooklyn · ★4.79 · 1 bedroom · 1 bed · 1 shared bath</td><td>2526182</td><td>Margaux</td><td>Brooklyn</td><td>Williamsburg</td><td>40.71153</td><td>-73.95312</td><td>Private room</td><td>90.0</td><td>30</td><td>19</td><td>2023-10-01</td><td>0.24</td><td>2</td><td>5</td><td>2</td><td>No License</td><td>4.79</td><td>1</td><td>1</td><td>1</td></tr><tr><td>8.96E17</td><td>Rental unit in Brooklyn · ★4.67 · 1 bedroom · 1 bed · 1 bath</td><td>14251313</td><td>Kristin</td><td>Brooklyn</td><td>Sunset Park</td><td>40.65891327</td><td>-73.98958973</td><td>Entire home/apt</td><td>292.0</td><td>30</td><td>12</td><td>2023-10-19</td><td>1.71</td><td>1</td><td>365</td><td>12</td><td>No License</td><td>4.67</td><td>1</td><td>1</td><td>1</td></tr><tr><td>2.206643E7</td><td>Rental unit in Brooklyn · ★4.71 · Studio · 1 bed · 1 bath</td><td>20604809</td><td>Houman</td><td>Brooklyn</td><td>Williamsburg</td><td>40.7132</td><td>-73.96176</td><td>Entire home/apt</td><td>160.0</td><td>30</td><td>49</td><td>2023-10-08</td><td>0.67</td><td>1</td><td>0</td><td>7</td><td>No License</td><td>4.71</td><td>Studio</td><td>1</td><td>1</td></tr><tr><td>3.4511726E7</td><td>Rental unit in Brooklyn · ★4.65 · 1 bedroom · 1 bed · 1 bath</td><td>260475429</td><td>Zahira</td><td>Brooklyn</td><td>Kensington</td><td>40.64304</td><td>-73.97964</td><td>Entire home/apt</td><td>120.0</td><td>30</td><td>26</td><td>2020-03-15</td><td>0.47</td><td>2</td><td>0</td><td>0</td><td>No License</td><td>4.65</td><td>1</td><td>1</td><td>1</td></tr></tbody></table></div>"
      ]
     },
     "metadata": {
      "application/vnd.databricks.v1+output": {
       "addedWidgets": {},
       "aggData": [],
       "aggError": "",
       "aggOverflow": false,
       "aggSchema": [],
       "aggSeriesLimitReached": false,
       "aggType": "",
       "arguments": {},
       "columnCustomDisplayInfos": {},
       "data": [
        [
         1312228.0,
         "Rental unit in Brooklyn · ★5.0 · 1 bedroom",
         7130382,
         "Walter",
         "Brooklyn",
         "Clinton Hill",
         40.68371,
         -73.96461,
         "Private room",
         55.0,
         30,
         3,
         "2015-12-20",
         0.03,
         1,
         0,
         0,
         "No License",
         "5",
         "1",
         1,
         "Not specified"
        ],
        [
         1.9280212E7,
         "Rental unit in Brooklyn · ★4.79 · 1 bedroom · 1 bed · 1 shared bath",
         2526182,
         "Margaux",
         "Brooklyn",
         "Williamsburg",
         40.71153,
         -73.95312,
         "Private room",
         90.0,
         30,
         19,
         "2023-10-01",
         0.24,
         2,
         5,
         2,
         "No License",
         "4.79",
         "1",
         1,
         "1"
        ],
        [
         8.96E17,
         "Rental unit in Brooklyn · ★4.67 · 1 bedroom · 1 bed · 1 bath",
         14251313,
         "Kristin",
         "Brooklyn",
         "Sunset Park",
         40.65891327,
         -73.98958973,
         "Entire home/apt",
         292.0,
         30,
         12,
         "2023-10-19",
         1.71,
         1,
         365,
         12,
         "No License",
         "4.67",
         "1",
         1,
         "1"
        ],
        [
         2.206643E7,
         "Rental unit in Brooklyn · ★4.71 · Studio · 1 bed · 1 bath",
         20604809,
         "Houman",
         "Brooklyn",
         "Williamsburg",
         40.7132,
         -73.96176,
         "Entire home/apt",
         160.0,
         30,
         49,
         "2023-10-08",
         0.67,
         1,
         0,
         7,
         "No License",
         "4.71",
         "Studio",
         1,
         "1"
        ],
        [
         3.4511726E7,
         "Rental unit in Brooklyn · ★4.65 · 1 bedroom · 1 bed · 1 bath",
         260475429,
         "Zahira",
         "Brooklyn",
         "Kensington",
         40.64304,
         -73.97964,
         "Entire home/apt",
         120.0,
         30,
         26,
         "2020-03-15",
         0.47,
         2,
         0,
         0,
         "No License",
         "4.65",
         "1",
         1,
         "1"
        ]
       ],
       "datasetInfos": [],
       "dbfsResultPath": null,
       "isJsonSchema": true,
       "metadata": {},
       "overflow": false,
       "plotOptions": {
        "customPlotOptions": {},
        "displayType": "table",
        "pivotAggregation": null,
        "pivotColumns": null,
        "xColumns": null,
        "yColumns": null
       },
       "removedWidgets": [],
       "schema": [
        {
         "metadata": "{}",
         "name": "id",
         "type": "\"double\""
        },
        {
         "metadata": "{}",
         "name": "name",
         "type": "\"string\""
        },
        {
         "metadata": "{}",
         "name": "host_id",
         "type": "\"integer\""
        },
        {
         "metadata": "{}",
         "name": "host_name",
         "type": "\"string\""
        },
        {
         "metadata": "{}",
         "name": "neighbourhood_group",
         "type": "\"string\""
        },
        {
         "metadata": "{}",
         "name": "neighbourhood",
         "type": "\"string\""
        },
        {
         "metadata": "{}",
         "name": "latitude",
         "type": "\"double\""
        },
        {
         "metadata": "{}",
         "name": "longitude",
         "type": "\"double\""
        },
        {
         "metadata": "{}",
         "name": "room_type",
         "type": "\"string\""
        },
        {
         "metadata": "{}",
         "name": "price",
         "type": "\"double\""
        },
        {
         "metadata": "{}",
         "name": "minimum_nights",
         "type": "\"integer\""
        },
        {
         "metadata": "{}",
         "name": "number_of_reviews",
         "type": "\"integer\""
        },
        {
         "metadata": "{\"__detected_date_formats\":\"d/M/yy\"}",
         "name": "last_review",
         "type": "\"date\""
        },
        {
         "metadata": "{}",
         "name": "reviews_per_month",
         "type": "\"double\""
        },
        {
         "metadata": "{}",
         "name": "calculated_host_listings_count",
         "type": "\"integer\""
        },
        {
         "metadata": "{}",
         "name": "availability_365",
         "type": "\"integer\""
        },
        {
         "metadata": "{}",
         "name": "number_of_reviews_ltm",
         "type": "\"integer\""
        },
        {
         "metadata": "{}",
         "name": "license",
         "type": "\"string\""
        },
        {
         "metadata": "{}",
         "name": "rating",
         "type": "\"string\""
        },
        {
         "metadata": "{}",
         "name": "bedrooms",
         "type": "\"string\""
        },
        {
         "metadata": "{}",
         "name": "beds",
         "type": "\"integer\""
        },
        {
         "metadata": "{}",
         "name": "baths",
         "type": "\"string\""
        }
       ],
       "type": "table"
      }
     },
     "output_type": "display_data"
    }
   ],
   "source": [
    "airbnb_raw_df.printSchema()\n",
    "display(airbnb_raw_df.limit(5))\n"
   ]
  },
  {
   "cell_type": "markdown",
   "metadata": {
    "application/vnd.databricks.v1+cell": {
     "cellMetadata": {},
     "inputWidgets": {},
     "nuid": "9dbcd5c3-d7bb-4805-860b-66a035b84ace",
     "showTitle": false,
     "tableResultSettingsMap": {},
     "title": ""
    }
   },
   "source": [
    "#CLEAN\n",
    "Casting Datatypes,Handling Null\\\n",
    "Clean price, cast columns, drop rows with key nulls"
   ]
  },
  {
   "cell_type": "code",
   "execution_count": 0,
   "metadata": {
    "application/vnd.databricks.v1+cell": {
     "cellMetadata": {
      "byteLimit": 2048000,
      "rowLimit": 10000
     },
     "inputWidgets": {},
     "nuid": "9e680182-690a-431c-b1c0-9d5e715667a2",
     "showTitle": false,
     "tableResultSettingsMap": {},
     "title": ""
    }
   },
   "outputs": [],
   "source": [
    "\n",
    "airbnb_cleaned_df = airbnb_raw_df \\\n",
    "    .withColumn(\"price_clean\", regexp_replace(col(\"price\"), \"[$,]\", \"\").cast(\"float\")) \\\n",
    "    .withColumn(\"reviews_per_month\", col(\"reviews_per_month\").cast(\"float\")) \\\n",
    "    .withColumn(\"last_review\", col(\"last_review\").cast(\"date\")) \\\n",
    "    .dropna(subset=[\"price_clean\", \"latitude\", \"longitude\", \"reviews_per_month\", \"last_review\"])\n"
   ]
  },
  {
   "cell_type": "markdown",
   "metadata": {
    "application/vnd.databricks.v1+cell": {
     "cellMetadata": {},
     "inputWidgets": {},
     "nuid": "af9f482e-b5fd-434e-ad3b-01b913ff0a08",
     "showTitle": false,
     "tableResultSettingsMap": {},
     "title": ""
    }
   },
   "source": [
    "#Business cleaning goals:\n",
    "\n",
    "Accurate price analysis\n",
    "Valid reviews for engagement trends"
   ]
  },
  {
   "cell_type": "markdown",
   "metadata": {
    "application/vnd.databricks.v1+cell": {
     "cellMetadata": {},
     "inputWidgets": {},
     "nuid": "ec75f35c-2a3b-4817-b2dc-ccf21e4a969d",
     "showTitle": false,
     "tableResultSettingsMap": {},
     "title": ""
    }
   },
   "source": [
    "#Transform\n",
    "Price segmentation\n",
    "\n",
    "Host performance\n",
    "\n",
    "Room size comparison"
   ]
  },
  {
   "cell_type": "code",
   "execution_count": 0,
   "metadata": {
    "application/vnd.databricks.v1+cell": {
     "cellMetadata": {
      "byteLimit": 2048000,
      "rowLimit": 10000
     },
     "inputWidgets": {},
     "nuid": "f8f93a2b-9ea0-44ed-8d44-6fc06d190f9c",
     "showTitle": false,
     "tableResultSettingsMap": {},
     "title": ""
    }
   },
   "outputs": [
    {
     "output_type": "stream",
     "name": "stdout",
     "output_type": "stream",
     "text": [
      "✅ Job completed successfully!\n"
     ]
    }
   ],
   "source": [
    "airbnb_transformed_df = airbnb_cleaned_df \\\n",
    "    .withColumn(\"price_category\", when(col(\"price_clean\") < 50, \"Low\")\n",
    "                                   .when((col(\"price_clean\") >= 50) & (col(\"price_clean\") <= 150), \"Medium\")\n",
    "                                   .otherwise(\"High\")) \\\n",
    "    .withColumn(\"availability_rate\", (col(\"availability_365\") / 365).cast(\"float\")) \\\n",
    "    .withColumn(\"room_capacity\", concat_ws(\" | \", col(\"bedrooms\"), col(\"beds\"), col(\"baths\")))\n",
    "\n",
    "print(\"✅ Job completed successfully!\")\n"
   ]
  },
  {
   "cell_type": "markdown",
   "metadata": {
    "application/vnd.databricks.v1+cell": {
     "cellMetadata": {},
     "inputWidgets": {},
     "nuid": "db0fd0da-dbea-43df-823a-00d5db9bcd18",
     "showTitle": false,
     "tableResultSettingsMap": {},
     "title": ""
    }
   },
   "source": [
    "#(Optimization #2)\n",
    "Cache Transformed Data "
   ]
  },
  {
   "cell_type": "code",
   "execution_count": 0,
   "metadata": {
    "application/vnd.databricks.v1+cell": {
     "cellMetadata": {
      "byteLimit": 2048000,
      "rowLimit": 10000
     },
     "inputWidgets": {},
     "nuid": "a21e2720-1506-48f4-b6c9-8d1842dcc795",
     "showTitle": false,
     "tableResultSettingsMap": {},
     "title": ""
    }
   },
   "outputs": [
    {
     "output_type": "stream",
     "name": "stdout",
     "output_type": "stream",
     "text": [
      "Out[7]: DataFrame[id: double, name: string, host_id: int, host_name: string, neighbourhood_group: string, neighbourhood: string, latitude: double, longitude: double, room_type: string, price: double, minimum_nights: int, number_of_reviews: int, last_review: date, reviews_per_month: float, calculated_host_listings_count: int, availability_365: int, number_of_reviews_ltm: int, license: string, rating: string, bedrooms: string, beds: int, baths: string, price_clean: float, price_category: string, availability_rate: float, room_capacity: string]"
     ]
    }
   ],
   "source": [
    "airbnb_transformed_df.cache()"
   ]
  },
  {
   "cell_type": "markdown",
   "metadata": {
    "application/vnd.databricks.v1+cell": {
     "cellMetadata": {},
     "inputWidgets": {},
     "nuid": "63a3f1d1-6ece-48c3-ba98-12080b9ef06f",
     "showTitle": false,
     "tableResultSettingsMap": {},
     "title": ""
    }
   },
   "source": [
    "#Handling Success and Failure During Transformations"
   ]
  },
  {
   "cell_type": "code",
   "execution_count": 0,
   "metadata": {
    "application/vnd.databricks.v1+cell": {
     "cellMetadata": {
      "byteLimit": 2048000,
      "rowLimit": 10000
     },
     "inputWidgets": {},
     "nuid": "32eec2b9-3f2f-43ab-98e9-1e8c5e3f804e",
     "showTitle": false,
     "tableResultSettingsMap": {},
     "title": ""
    }
   },
   "outputs": [
    {
     "output_type": "stream",
     "name": "stdout",
     "output_type": "stream",
     "text": [
      "🔹 Transforming columns...\n✅ Transformation job ran successfully.\n"
     ]
    }
   ],
   "source": [
    "try:\n",
    "    print(\"🔹 Transforming columns...\")\n",
    "\n",
    "    airbnb_transformed_df = airbnb_cleaned_df \\\n",
    "        .withColumn(\"price_category\", when(col(\"price_clean\") < 50, \"Low\")\n",
    "                                       .when((col(\"price_clean\") >= 50) & (col(\"price_clean\") <= 150), \"Medium\")\n",
    "                                       .otherwise(\"High\")) \\\n",
    "        .withColumn(\"availability_rate\", (col(\"availability_365\") / 365).cast(\"float\")) \\\n",
    "        .withColumn(\"room_capacity\", concat_ws(\" | \", col(\"bedrooms\"), col(\"beds\"), col(\"baths\")))\n",
    "\n",
    "    airbnb_transformed_df.cache()\n",
    "\n",
    "    print(\"✅ Transformation job ran successfully.\")\n",
    "\n",
    "except Exception as e:\n",
    "    print(\"❌ Transformation job failed.\")\n",
    "    print(f\"⚠️ Error details: {e}\")"
   ]
  },
  {
   "cell_type": "markdown",
   "metadata": {
    "application/vnd.databricks.v1+cell": {
     "cellMetadata": {},
     "inputWidgets": {},
     "nuid": "7880a498-20e8-4541-8fee-a408f09062b3",
     "showTitle": false,
     "tableResultSettingsMap": {},
     "title": ""
    }
   },
   "source": []
  },
  {
   "cell_type": "markdown",
   "metadata": {
    "application/vnd.databricks.v1+cell": {
     "cellMetadata": {},
     "inputWidgets": {},
     "nuid": "acd1cd5c-f313-4143-b558-709447d8b590",
     "showTitle": false,
     "tableResultSettingsMap": {},
     "title": ""
    }
   },
   "source": [
    "#LOAD-Incremental Load\n",
    "Save as Parquet with Partition on price catageory and compress it (Optimizations #3 & #4)"
   ]
  },
  {
   "cell_type": "code",
   "execution_count": 0,
   "metadata": {
    "application/vnd.databricks.v1+cell": {
     "cellMetadata": {
      "byteLimit": 2048000,
      "rowLimit": 10000
     },
     "inputWidgets": {},
     "nuid": "21e27bb7-726f-4b7e-960c-7a557ba41e6d",
     "showTitle": false,
     "tableResultSettingsMap": {},
     "title": ""
    }
   },
   "outputs": [],
   "source": [
    "airbnb_transformed_df.write.mode(\"append\") \\\n",
    "    .partitionBy(\"price_category\") \\\n",
    "    .option(\"compression\", \"snappy\") \\\n",
    "    .parquet(\"/FileStore/airbnb/processed_partitioned\")\n"
   ]
  },
  {
   "cell_type": "markdown",
   "metadata": {
    "application/vnd.databricks.v1+cell": {
     "cellMetadata": {},
     "inputWidgets": {},
     "nuid": "b612382f-a259-49bf-9f0b-80f3d8750330",
     "showTitle": false,
     "tableResultSettingsMap": {},
     "title": ""
    }
   },
   "source": [
    "#Create Temp Table for SQL\n",
    "For Global add global keyword later--dont 4get"
   ]
  },
  {
   "cell_type": "code",
   "execution_count": 0,
   "metadata": {
    "application/vnd.databricks.v1+cell": {
     "cellMetadata": {
      "byteLimit": 2048000,
      "rowLimit": 10000
     },
     "inputWidgets": {},
     "nuid": "f6235b8c-f360-4c7b-8776-59aea125bba1",
     "showTitle": false,
     "tableResultSettingsMap": {},
     "title": ""
    }
   },
   "outputs": [],
   "source": [
    "airbnb_transformed_df.createOrReplaceTempView(\"airbnb_cleaned\")\n"
   ]
  },
  {
   "cell_type": "markdown",
   "metadata": {
    "application/vnd.databricks.v1+cell": {
     "cellMetadata": {},
     "inputWidgets": {},
     "nuid": "49da46f2-2a36-4238-a38d-6c74478d1949",
     "showTitle": false,
     "tableResultSettingsMap": {},
     "title": ""
    }
   },
   "source": [
    "RETRIEVE WITH sql"
   ]
  },
  {
   "cell_type": "code",
   "execution_count": 0,
   "metadata": {
    "application/vnd.databricks.v1+cell": {
     "cellMetadata": {
      "byteLimit": 2048000,
      "implicitDf": true,
      "rowLimit": 10000
     },
     "inputWidgets": {},
     "nuid": "05030c69-2db3-40d9-ae36-885f8a5e77b0",
     "showTitle": false,
     "tableResultSettingsMap": {},
     "title": ""
    }
   },
   "outputs": [
    {
     "output_type": "display_data",
     "data": {
      "text/html": [
       "<style scoped>\n",
       "  .table-result-container {\n",
       "    max-height: 300px;\n",
       "    overflow: auto;\n",
       "  }\n",
       "  table, th, td {\n",
       "    border: 1px solid black;\n",
       "    border-collapse: collapse;\n",
       "  }\n",
       "  th, td {\n",
       "    padding: 5px;\n",
       "  }\n",
       "  th {\n",
       "    text-align: left;\n",
       "  }\n",
       "</style><div class='table-result-container'><table class='table-result'><thead style='background-color: white'><tr><th>room_type</th><th>price_category</th><th>total</th></tr></thead><tbody><tr><td>Private room</td><td>Medium</td><td>2314</td></tr><tr><td>Entire home/apt</td><td>High</td><td>2278</td></tr><tr><td>Entire home/apt</td><td>Medium</td><td>1831</td></tr><tr><td>Private room</td><td>Low</td><td>654</td></tr><tr><td>Private room</td><td>High</td><td>487</td></tr><tr><td>Shared room</td><td>Low</td><td>46</td></tr><tr><td>Shared room</td><td>Medium</td><td>44</td></tr><tr><td>Shared room</td><td>High</td><td>30</td></tr><tr><td>Entire home/apt</td><td>Low</td><td>6</td></tr><tr><td>Hotel room</td><td>High</td><td>3</td></tr><tr><td>Hotel room</td><td>Medium</td><td>1</td></tr></tbody></table></div>"
      ]
     },
     "metadata": {
      "application/vnd.databricks.v1+output": {
       "addedWidgets": {},
       "aggData": [],
       "aggError": "",
       "aggOverflow": false,
       "aggSchema": [],
       "aggSeriesLimitReached": false,
       "aggType": "",
       "arguments": {},
       "columnCustomDisplayInfos": {},
       "data": [
        [
         "Private room",
         "Medium",
         2314
        ],
        [
         "Entire home/apt",
         "High",
         2278
        ],
        [
         "Entire home/apt",
         "Medium",
         1831
        ],
        [
         "Private room",
         "Low",
         654
        ],
        [
         "Private room",
         "High",
         487
        ],
        [
         "Shared room",
         "Low",
         46
        ],
        [
         "Shared room",
         "Medium",
         44
        ],
        [
         "Shared room",
         "High",
         30
        ],
        [
         "Entire home/apt",
         "Low",
         6
        ],
        [
         "Hotel room",
         "High",
         3
        ],
        [
         "Hotel room",
         "Medium",
         1
        ]
       ],
       "datasetInfos": [],
       "dbfsResultPath": null,
       "isJsonSchema": true,
       "metadata": {},
       "overflow": false,
       "plotOptions": {
        "customPlotOptions": {},
        "displayType": "table",
        "pivotAggregation": null,
        "pivotColumns": null,
        "xColumns": null,
        "yColumns": null
       },
       "removedWidgets": [],
       "schema": [
        {
         "metadata": "{}",
         "name": "room_type",
         "type": "\"string\""
        },
        {
         "metadata": "{}",
         "name": "price_category",
         "type": "\"string\""
        },
        {
         "metadata": "{}",
         "name": "total",
         "type": "\"long\""
        }
       ],
       "type": "table"
      }
     },
     "output_type": "display_data"
    }
   ],
   "source": [
    "%sql\n",
    "SELECT room_type, price_category, COUNT(*) AS total\n",
    "FROM airbnb_cleaned\n",
    "GROUP BY room_type, price_category\n",
    "ORDER BY total DESC\n"
   ]
  },
  {
   "cell_type": "code",
   "execution_count": 0,
   "metadata": {
    "application/vnd.databricks.v1+cell": {
     "cellMetadata": {
      "byteLimit": 2048000,
      "implicitDf": true,
      "rowLimit": 10000
     },
     "inputWidgets": {},
     "nuid": "41a51f5e-dd33-4ce4-a26b-34bb1ddc3a51",
     "showTitle": false,
     "tableResultSettingsMap": {},
     "title": ""
    }
   },
   "outputs": [
    {
     "output_type": "display_data",
     "data": {
      "text/html": [
       "<style scoped>\n",
       "  .table-result-container {\n",
       "    max-height: 300px;\n",
       "    overflow: auto;\n",
       "  }\n",
       "  table, th, td {\n",
       "    border: 1px solid black;\n",
       "    border-collapse: collapse;\n",
       "  }\n",
       "  th, td {\n",
       "    padding: 5px;\n",
       "  }\n",
       "  th {\n",
       "    text-align: left;\n",
       "  }\n",
       "</style><div class='table-result-container'><table class='table-result'><thead style='background-color: white'><tr><th>count(1)</th></tr></thead><tbody><tr><td>7694</td></tr></tbody></table></div>"
      ]
     },
     "metadata": {
      "application/vnd.databricks.v1+output": {
       "addedWidgets": {},
       "aggData": [],
       "aggError": "",
       "aggOverflow": false,
       "aggSchema": [],
       "aggSeriesLimitReached": false,
       "aggType": "",
       "arguments": {},
       "columnCustomDisplayInfos": {},
       "data": [
        [
         7694
        ]
       ],
       "datasetInfos": [],
       "dbfsResultPath": null,
       "isJsonSchema": true,
       "metadata": {},
       "overflow": false,
       "plotOptions": {
        "customPlotOptions": {},
        "displayType": "table",
        "pivotAggregation": null,
        "pivotColumns": null,
        "xColumns": null,
        "yColumns": null
       },
       "removedWidgets": [],
       "schema": [
        {
         "metadata": "{\"__autoGeneratedAlias\":\"true\"}",
         "name": "count(1)",
         "type": "\"long\""
        }
       ],
       "type": "table"
      }
     },
     "output_type": "display_data"
    }
   ],
   "source": [
    "%sql\n",
    "SELECT  COUNT(1)\n",
    "FROM airbnb_cleaned"
   ]
  },
  {
   "cell_type": "markdown",
   "metadata": {
    "application/vnd.databricks.v1+cell": {
     "cellMetadata": {},
     "inputWidgets": {},
     "nuid": "49d57c8e-ab16-42a3-91c7-4e3b2a0f6327",
     "showTitle": false,
     "tableResultSettingsMap": {},
     "title": ""
    }
   },
   "source": [
    "#SQL-Based Visualizations"
   ]
  },
  {
   "cell_type": "markdown",
   "metadata": {
    "application/vnd.databricks.v1+cell": {
     "cellMetadata": {},
     "inputWidgets": {},
     "nuid": "3ab0d0d8-18e5-4b74-b08c-33ab38c71615",
     "showTitle": false,
     "tableResultSettingsMap": {},
     "title": ""
    }
   },
   "source": [
    "**1**. most popular room types among hosts-Bar chart"
   ]
  },
  {
   "cell_type": "code",
   "execution_count": 0,
   "metadata": {
    "application/vnd.databricks.v1+cell": {
     "cellMetadata": {
      "byteLimit": 2048000,
      "implicitDf": true,
      "rowLimit": 10000
     },
     "inputWidgets": {},
     "nuid": "00ffdafc-fd56-4016-ac6b-fc6d32306d5e",
     "showTitle": false,
     "tableResultSettingsMap": {},
     "title": ""
    }
   },
   "outputs": [
    {
     "output_type": "display_data",
     "data": {
      "text/html": [
       "<style scoped>\n",
       "  .table-result-container {\n",
       "    max-height: 300px;\n",
       "    overflow: auto;\n",
       "  }\n",
       "  table, th, td {\n",
       "    border: 1px solid black;\n",
       "    border-collapse: collapse;\n",
       "  }\n",
       "  th, td {\n",
       "    padding: 5px;\n",
       "  }\n",
       "  th {\n",
       "    text-align: left;\n",
       "  }\n",
       "</style><div class='table-result-container'><table class='table-result'><thead style='background-color: white'><tr><th>room_type</th><th>listing_count</th></tr></thead><tbody><tr><td>Entire home/apt</td><td>4115</td></tr><tr><td>Private room</td><td>3455</td></tr><tr><td>Shared room</td><td>120</td></tr><tr><td>Hotel room</td><td>4</td></tr></tbody></table></div>"
      ]
     },
     "metadata": {
      "application/vnd.databricks.v1+output": {
       "addedWidgets": {},
       "aggData": [],
       "aggError": "",
       "aggOverflow": false,
       "aggSchema": [],
       "aggSeriesLimitReached": false,
       "aggType": "",
       "arguments": {},
       "columnCustomDisplayInfos": {},
       "data": [
        [
         "Entire home/apt",
         4115
        ],
        [
         "Private room",
         3455
        ],
        [
         "Shared room",
         120
        ],
        [
         "Hotel room",
         4
        ]
       ],
       "datasetInfos": [],
       "dbfsResultPath": null,
       "isJsonSchema": true,
       "metadata": {},
       "overflow": false,
       "plotOptions": {
        "customPlotOptions": {},
        "displayType": "table",
        "pivotAggregation": null,
        "pivotColumns": null,
        "xColumns": null,
        "yColumns": null
       },
       "removedWidgets": [],
       "schema": [
        {
         "metadata": "{}",
         "name": "room_type",
         "type": "\"string\""
        },
        {
         "metadata": "{}",
         "name": "listing_count",
         "type": "\"long\""
        }
       ],
       "type": "table"
      }
     },
     "output_type": "display_data"
    },
    {
     "output_type": "display_data",
     "data": {
      "text/plain": [
       "Databricks visualization. Run in Databricks to view."
      ]
     },
     "metadata": {
      "application/vnd.databricks.v1.subcommand+json": {
       "baseErrorDetails": null,
       "bindings": {},
       "collapsed": false,
       "command": "%sql WITH q AS (SELECT room_type, COUNT(*) AS listing_count\nFROM airbnb_cleaned\nGROUP BY room_type\nORDER BY listing_count DESC) SELECT `room_type`,SUM(`listing_count`) `column_f3c03bfd99` FROM q GROUP BY `room_type`",
       "commandTitle": "Visualization 1",
       "commandType": "auto",
       "commandVersion": 0,
       "commentThread": [],
       "commentsVisible": false,
       "contentSha256Hex": null,
       "customPlotOptions": {
        "redashChart": [
         {
          "key": "type",
          "value": "CHART"
         },
         {
          "key": "options",
          "value": {
           "alignYAxesAtZero": true,
           "coefficient": 1,
           "columnConfigurationMap": {
            "x": {
             "column": "room_type",
             "id": "column_f3c03bfd98"
            },
            "y": [
             {
              "column": "listing_count",
              "id": "column_f3c03bfd99",
              "transform": "SUM"
             }
            ]
           },
           "dateTimeFormat": "DD/MM/YYYY HH:mm",
           "direction": {
            "type": "counterclockwise"
           },
           "error_y": {
            "type": "data",
            "visible": true
           },
           "globalSeriesType": "column",
           "legend": {
            "traceorder": "normal"
           },
           "missingValuesAsZero": true,
           "numberFormat": "0,0.[00000]",
           "percentFormat": "0[.]00%",
           "series": {
            "error_y": {
             "type": "data",
             "visible": true
            },
            "stacking": null
           },
           "seriesOptions": {
            "column_f3c03bfd99": {
             "name": "listing_count",
             "yAxis": 0
            }
           },
           "showDataLabels": false,
           "sizemode": "diameter",
           "sortX": true,
           "sortY": true,
           "swappedAxes": true,
           "textFormat": "",
           "useAggregationsUi": true,
           "valuesOptions": {},
           "version": 2,
           "xAxis": {
            "labels": {
             "enabled": true
            },
            "type": "-"
           },
           "yAxis": [
            {
             "type": "-"
            },
            {
             "opposite": true,
             "type": "-"
            }
           ]
          }
         }
        ]
       },
       "datasetPreviewNameToCmdIdMap": {},
       "diffDeletes": [],
       "diffInserts": [],
       "displayType": "redashChart",
       "error": null,
       "errorDetails": null,
       "errorSummary": null,
       "errorTraceType": null,
       "finishTime": 0,
       "globalVars": {},
       "guid": "",
       "height": "auto",
       "hideCommandCode": false,
       "hideCommandResult": false,
       "iPythonMetadata": null,
       "inputWidgets": {},
       "isLockedInExamMode": false,
       "latestUser": "a user",
       "latestUserId": null,
       "listResultMetadata": null,
       "metadata": {},
       "nuid": "b4d664e0-487b-4e76-8810-4e11eecd638e",
       "origId": 0,
       "parentHierarchy": [],
       "pivotAggregation": null,
       "pivotColumns": null,
       "position": 13.0,
       "resultDbfsErrorMessage": null,
       "resultDbfsStatus": "INLINED_IN_TREE",
       "results": null,
       "showCommandTitle": false,
       "startTime": 0,
       "state": "input",
       "streamStates": {},
       "subcommandOptions": {
        "queryPlan": {
         "groups": [
          {
           "column": "room_type",
           "type": "column"
          }
         ],
         "selects": [
          {
           "column": "room_type",
           "type": "column"
          },
          {
           "alias": "column_f3c03bfd99",
           "args": [
            {
             "column": "listing_count",
             "type": "column"
            }
           ],
           "function": "SUM",
           "type": "function"
          }
         ]
        }
       },
       "submitTime": 0,
       "subtype": "tableResultSubCmd.visualization",
       "tableResultIndex": 0,
       "tableResultSettingsMap": {},
       "useConsistentColors": false,
       "version": "CommandV1",
       "width": "auto",
       "workflows": [],
       "xColumns": null,
       "yColumns": null
      }
     },
     "output_type": "display_data"
    }
   ],
   "source": [
    "%sql\n",
    "SELECT room_type, COUNT(*) AS listing_count\n",
    "FROM airbnb_cleaned\n",
    "GROUP BY room_type\n",
    "ORDER BY listing_count DESC"
   ]
  },
  {
   "cell_type": "markdown",
   "metadata": {
    "application/vnd.databricks.v1+cell": {
     "cellMetadata": {},
     "inputWidgets": {},
     "nuid": "2144b058-0db8-484e-bbe7-8ccc463e7ab2",
     "showTitle": false,
     "tableResultSettingsMap": {},
     "title": ""
    }
   },
   "source": [
    "**2**. Monthly Review Count Trend\\\n",
    "Identified peak booking seasons"
   ]
  },
  {
   "cell_type": "code",
   "execution_count": 0,
   "metadata": {
    "application/vnd.databricks.v1+cell": {
     "cellMetadata": {
      "byteLimit": 2048000,
      "implicitDf": true,
      "rowLimit": 10000
     },
     "inputWidgets": {},
     "nuid": "c44baf58-1536-4a1f-9ba6-6102f1cf8f0f",
     "showTitle": false,
     "tableResultSettingsMap": {},
     "title": ""
    }
   },
   "outputs": [
    {
     "output_type": "display_data",
     "data": {
      "text/html": [
       "<style scoped>\n",
       "  .table-result-container {\n",
       "    max-height: 300px;\n",
       "    overflow: auto;\n",
       "  }\n",
       "  table, th, td {\n",
       "    border: 1px solid black;\n",
       "    border-collapse: collapse;\n",
       "  }\n",
       "  th, td {\n",
       "    padding: 5px;\n",
       "  }\n",
       "  th {\n",
       "    text-align: left;\n",
       "  }\n",
       "</style><div class='table-result-container'><table class='table-result'><thead style='background-color: white'><tr><th>review_month</th><th>total_reviews</th></tr></thead><tbody><tr><td>2012-06-01T00:00:00.000+0000</td><td>1</td></tr><tr><td>2012-07-01T00:00:00.000+0000</td><td>1</td></tr><tr><td>2012-09-01T00:00:00.000+0000</td><td>1</td></tr><tr><td>2013-03-01T00:00:00.000+0000</td><td>1</td></tr><tr><td>2013-04-01T00:00:00.000+0000</td><td>1</td></tr><tr><td>2013-05-01T00:00:00.000+0000</td><td>1</td></tr><tr><td>2013-09-01T00:00:00.000+0000</td><td>1</td></tr><tr><td>2013-11-01T00:00:00.000+0000</td><td>1</td></tr><tr><td>2014-01-01T00:00:00.000+0000</td><td>2</td></tr><tr><td>2014-05-01T00:00:00.000+0000</td><td>1</td></tr><tr><td>2014-09-01T00:00:00.000+0000</td><td>1</td></tr><tr><td>2014-10-01T00:00:00.000+0000</td><td>1</td></tr><tr><td>2014-12-01T00:00:00.000+0000</td><td>1</td></tr><tr><td>2015-01-01T00:00:00.000+0000</td><td>1</td></tr><tr><td>2015-05-01T00:00:00.000+0000</td><td>1</td></tr><tr><td>2015-06-01T00:00:00.000+0000</td><td>1</td></tr><tr><td>2015-07-01T00:00:00.000+0000</td><td>1</td></tr><tr><td>2015-08-01T00:00:00.000+0000</td><td>2</td></tr><tr><td>2015-09-01T00:00:00.000+0000</td><td>3</td></tr><tr><td>2015-10-01T00:00:00.000+0000</td><td>3</td></tr><tr><td>2015-12-01T00:00:00.000+0000</td><td>1</td></tr><tr><td>2016-01-01T00:00:00.000+0000</td><td>3</td></tr><tr><td>2016-05-01T00:00:00.000+0000</td><td>3</td></tr><tr><td>2016-06-01T00:00:00.000+0000</td><td>4</td></tr><tr><td>2016-07-01T00:00:00.000+0000</td><td>1</td></tr><tr><td>2016-08-01T00:00:00.000+0000</td><td>6</td></tr><tr><td>2016-09-01T00:00:00.000+0000</td><td>3</td></tr><tr><td>2016-10-01T00:00:00.000+0000</td><td>7</td></tr><tr><td>2016-11-01T00:00:00.000+0000</td><td>3</td></tr><tr><td>2016-12-01T00:00:00.000+0000</td><td>2</td></tr><tr><td>2017-01-01T00:00:00.000+0000</td><td>7</td></tr><tr><td>2017-02-01T00:00:00.000+0000</td><td>3</td></tr><tr><td>2017-03-01T00:00:00.000+0000</td><td>1</td></tr><tr><td>2017-05-01T00:00:00.000+0000</td><td>2</td></tr><tr><td>2017-06-01T00:00:00.000+0000</td><td>3</td></tr><tr><td>2017-07-01T00:00:00.000+0000</td><td>4</td></tr><tr><td>2017-08-01T00:00:00.000+0000</td><td>5</td></tr><tr><td>2017-09-01T00:00:00.000+0000</td><td>2</td></tr><tr><td>2017-10-01T00:00:00.000+0000</td><td>5</td></tr><tr><td>2017-11-01T00:00:00.000+0000</td><td>2</td></tr><tr><td>2017-12-01T00:00:00.000+0000</td><td>4</td></tr><tr><td>2018-01-01T00:00:00.000+0000</td><td>8</td></tr><tr><td>2018-03-01T00:00:00.000+0000</td><td>3</td></tr><tr><td>2018-04-01T00:00:00.000+0000</td><td>2</td></tr><tr><td>2018-05-01T00:00:00.000+0000</td><td>9</td></tr><tr><td>2018-06-01T00:00:00.000+0000</td><td>1</td></tr><tr><td>2018-07-01T00:00:00.000+0000</td><td>7</td></tr><tr><td>2018-08-01T00:00:00.000+0000</td><td>9</td></tr><tr><td>2018-09-01T00:00:00.000+0000</td><td>11</td></tr><tr><td>2018-10-01T00:00:00.000+0000</td><td>8</td></tr><tr><td>2018-11-01T00:00:00.000+0000</td><td>3</td></tr><tr><td>2018-12-01T00:00:00.000+0000</td><td>15</td></tr><tr><td>2019-01-01T00:00:00.000+0000</td><td>28</td></tr><tr><td>2019-02-01T00:00:00.000+0000</td><td>3</td></tr><tr><td>2019-03-01T00:00:00.000+0000</td><td>4</td></tr><tr><td>2019-04-01T00:00:00.000+0000</td><td>9</td></tr><tr><td>2019-05-01T00:00:00.000+0000</td><td>22</td></tr><tr><td>2019-06-01T00:00:00.000+0000</td><td>13</td></tr><tr><td>2019-07-01T00:00:00.000+0000</td><td>17</td></tr><tr><td>2019-08-01T00:00:00.000+0000</td><td>27</td></tr><tr><td>2019-09-01T00:00:00.000+0000</td><td>26</td></tr><tr><td>2019-10-01T00:00:00.000+0000</td><td>38</td></tr><tr><td>2019-11-01T00:00:00.000+0000</td><td>34</td></tr><tr><td>2019-12-01T00:00:00.000+0000</td><td>47</td></tr><tr><td>2020-01-01T00:00:00.000+0000</td><td>79</td></tr><tr><td>2020-02-01T00:00:00.000+0000</td><td>38</td></tr><tr><td>2020-03-01T00:00:00.000+0000</td><td>69</td></tr><tr><td>2020-04-01T00:00:00.000+0000</td><td>10</td></tr><tr><td>2020-05-01T00:00:00.000+0000</td><td>4</td></tr><tr><td>2020-06-01T00:00:00.000+0000</td><td>8</td></tr><tr><td>2020-07-01T00:00:00.000+0000</td><td>9</td></tr><tr><td>2020-08-01T00:00:00.000+0000</td><td>17</td></tr><tr><td>2020-09-01T00:00:00.000+0000</td><td>13</td></tr><tr><td>2020-10-01T00:00:00.000+0000</td><td>13</td></tr><tr><td>2020-11-01T00:00:00.000+0000</td><td>21</td></tr><tr><td>2020-12-01T00:00:00.000+0000</td><td>14</td></tr><tr><td>2021-01-01T00:00:00.000+0000</td><td>12</td></tr><tr><td>2021-02-01T00:00:00.000+0000</td><td>5</td></tr><tr><td>2021-03-01T00:00:00.000+0000</td><td>8</td></tr><tr><td>2021-04-01T00:00:00.000+0000</td><td>8</td></tr><tr><td>2021-05-01T00:00:00.000+0000</td><td>14</td></tr><tr><td>2021-06-01T00:00:00.000+0000</td><td>12</td></tr><tr><td>2021-07-01T00:00:00.000+0000</td><td>25</td></tr><tr><td>2021-08-01T00:00:00.000+0000</td><td>36</td></tr><tr><td>2021-09-01T00:00:00.000+0000</td><td>29</td></tr><tr><td>2021-10-01T00:00:00.000+0000</td><td>30</td></tr><tr><td>2021-11-01T00:00:00.000+0000</td><td>20</td></tr><tr><td>2021-12-01T00:00:00.000+0000</td><td>26</td></tr><tr><td>2022-01-01T00:00:00.000+0000</td><td>35</td></tr><tr><td>2022-02-01T00:00:00.000+0000</td><td>15</td></tr><tr><td>2022-03-01T00:00:00.000+0000</td><td>19</td></tr><tr><td>2022-04-01T00:00:00.000+0000</td><td>28</td></tr><tr><td>2022-05-01T00:00:00.000+0000</td><td>43</td></tr><tr><td>2022-06-01T00:00:00.000+0000</td><td>36</td></tr><tr><td>2022-07-01T00:00:00.000+0000</td><td>63</td></tr><tr><td>2022-08-01T00:00:00.000+0000</td><td>68</td></tr><tr><td>2022-09-01T00:00:00.000+0000</td><td>75</td></tr><tr><td>2022-10-01T00:00:00.000+0000</td><td>87</td></tr><tr><td>2022-11-01T00:00:00.000+0000</td><td>69</td></tr><tr><td>2022-12-01T00:00:00.000+0000</td><td>90</td></tr><tr><td>2023-01-01T00:00:00.000+0000</td><td>117</td></tr><tr><td>2023-02-01T00:00:00.000+0000</td><td>46</td></tr><tr><td>2023-03-01T00:00:00.000+0000</td><td>79</td></tr><tr><td>2023-04-01T00:00:00.000+0000</td><td>97</td></tr><tr><td>2023-05-01T00:00:00.000+0000</td><td>181</td></tr><tr><td>2023-06-01T00:00:00.000+0000</td><td>227</td></tr><tr><td>2023-07-01T00:00:00.000+0000</td><td>280</td></tr><tr><td>2023-08-01T00:00:00.000+0000</td><td>570</td></tr><tr><td>2023-09-01T00:00:00.000+0000</td><td>931</td></tr><tr><td>2023-10-01T00:00:00.000+0000</td><td>924</td></tr><tr><td>2023-11-01T00:00:00.000+0000</td><td>1165</td></tr><tr><td>2023-12-01T00:00:00.000+0000</td><td>1290</td></tr><tr><td>2024-01-01T00:00:00.000+0000</td><td>198</td></tr></tbody></table></div>"
      ]
     },
     "metadata": {
      "application/vnd.databricks.v1+output": {
       "addedWidgets": {},
       "aggData": [],
       "aggError": "",
       "aggOverflow": false,
       "aggSchema": [],
       "aggSeriesLimitReached": false,
       "aggType": "",
       "arguments": {},
       "columnCustomDisplayInfos": {},
       "data": [
        [
         "2012-06-01T00:00:00.000+0000",
         1
        ],
        [
         "2012-07-01T00:00:00.000+0000",
         1
        ],
        [
         "2012-09-01T00:00:00.000+0000",
         1
        ],
        [
         "2013-03-01T00:00:00.000+0000",
         1
        ],
        [
         "2013-04-01T00:00:00.000+0000",
         1
        ],
        [
         "2013-05-01T00:00:00.000+0000",
         1
        ],
        [
         "2013-09-01T00:00:00.000+0000",
         1
        ],
        [
         "2013-11-01T00:00:00.000+0000",
         1
        ],
        [
         "2014-01-01T00:00:00.000+0000",
         2
        ],
        [
         "2014-05-01T00:00:00.000+0000",
         1
        ],
        [
         "2014-09-01T00:00:00.000+0000",
         1
        ],
        [
         "2014-10-01T00:00:00.000+0000",
         1
        ],
        [
         "2014-12-01T00:00:00.000+0000",
         1
        ],
        [
         "2015-01-01T00:00:00.000+0000",
         1
        ],
        [
         "2015-05-01T00:00:00.000+0000",
         1
        ],
        [
         "2015-06-01T00:00:00.000+0000",
         1
        ],
        [
         "2015-07-01T00:00:00.000+0000",
         1
        ],
        [
         "2015-08-01T00:00:00.000+0000",
         2
        ],
        [
         "2015-09-01T00:00:00.000+0000",
         3
        ],
        [
         "2015-10-01T00:00:00.000+0000",
         3
        ],
        [
         "2015-12-01T00:00:00.000+0000",
         1
        ],
        [
         "2016-01-01T00:00:00.000+0000",
         3
        ],
        [
         "2016-05-01T00:00:00.000+0000",
         3
        ],
        [
         "2016-06-01T00:00:00.000+0000",
         4
        ],
        [
         "2016-07-01T00:00:00.000+0000",
         1
        ],
        [
         "2016-08-01T00:00:00.000+0000",
         6
        ],
        [
         "2016-09-01T00:00:00.000+0000",
         3
        ],
        [
         "2016-10-01T00:00:00.000+0000",
         7
        ],
        [
         "2016-11-01T00:00:00.000+0000",
         3
        ],
        [
         "2016-12-01T00:00:00.000+0000",
         2
        ],
        [
         "2017-01-01T00:00:00.000+0000",
         7
        ],
        [
         "2017-02-01T00:00:00.000+0000",
         3
        ],
        [
         "2017-03-01T00:00:00.000+0000",
         1
        ],
        [
         "2017-05-01T00:00:00.000+0000",
         2
        ],
        [
         "2017-06-01T00:00:00.000+0000",
         3
        ],
        [
         "2017-07-01T00:00:00.000+0000",
         4
        ],
        [
         "2017-08-01T00:00:00.000+0000",
         5
        ],
        [
         "2017-09-01T00:00:00.000+0000",
         2
        ],
        [
         "2017-10-01T00:00:00.000+0000",
         5
        ],
        [
         "2017-11-01T00:00:00.000+0000",
         2
        ],
        [
         "2017-12-01T00:00:00.000+0000",
         4
        ],
        [
         "2018-01-01T00:00:00.000+0000",
         8
        ],
        [
         "2018-03-01T00:00:00.000+0000",
         3
        ],
        [
         "2018-04-01T00:00:00.000+0000",
         2
        ],
        [
         "2018-05-01T00:00:00.000+0000",
         9
        ],
        [
         "2018-06-01T00:00:00.000+0000",
         1
        ],
        [
         "2018-07-01T00:00:00.000+0000",
         7
        ],
        [
         "2018-08-01T00:00:00.000+0000",
         9
        ],
        [
         "2018-09-01T00:00:00.000+0000",
         11
        ],
        [
         "2018-10-01T00:00:00.000+0000",
         8
        ],
        [
         "2018-11-01T00:00:00.000+0000",
         3
        ],
        [
         "2018-12-01T00:00:00.000+0000",
         15
        ],
        [
         "2019-01-01T00:00:00.000+0000",
         28
        ],
        [
         "2019-02-01T00:00:00.000+0000",
         3
        ],
        [
         "2019-03-01T00:00:00.000+0000",
         4
        ],
        [
         "2019-04-01T00:00:00.000+0000",
         9
        ],
        [
         "2019-05-01T00:00:00.000+0000",
         22
        ],
        [
         "2019-06-01T00:00:00.000+0000",
         13
        ],
        [
         "2019-07-01T00:00:00.000+0000",
         17
        ],
        [
         "2019-08-01T00:00:00.000+0000",
         27
        ],
        [
         "2019-09-01T00:00:00.000+0000",
         26
        ],
        [
         "2019-10-01T00:00:00.000+0000",
         38
        ],
        [
         "2019-11-01T00:00:00.000+0000",
         34
        ],
        [
         "2019-12-01T00:00:00.000+0000",
         47
        ],
        [
         "2020-01-01T00:00:00.000+0000",
         79
        ],
        [
         "2020-02-01T00:00:00.000+0000",
         38
        ],
        [
         "2020-03-01T00:00:00.000+0000",
         69
        ],
        [
         "2020-04-01T00:00:00.000+0000",
         10
        ],
        [
         "2020-05-01T00:00:00.000+0000",
         4
        ],
        [
         "2020-06-01T00:00:00.000+0000",
         8
        ],
        [
         "2020-07-01T00:00:00.000+0000",
         9
        ],
        [
         "2020-08-01T00:00:00.000+0000",
         17
        ],
        [
         "2020-09-01T00:00:00.000+0000",
         13
        ],
        [
         "2020-10-01T00:00:00.000+0000",
         13
        ],
        [
         "2020-11-01T00:00:00.000+0000",
         21
        ],
        [
         "2020-12-01T00:00:00.000+0000",
         14
        ],
        [
         "2021-01-01T00:00:00.000+0000",
         12
        ],
        [
         "2021-02-01T00:00:00.000+0000",
         5
        ],
        [
         "2021-03-01T00:00:00.000+0000",
         8
        ],
        [
         "2021-04-01T00:00:00.000+0000",
         8
        ],
        [
         "2021-05-01T00:00:00.000+0000",
         14
        ],
        [
         "2021-06-01T00:00:00.000+0000",
         12
        ],
        [
         "2021-07-01T00:00:00.000+0000",
         25
        ],
        [
         "2021-08-01T00:00:00.000+0000",
         36
        ],
        [
         "2021-09-01T00:00:00.000+0000",
         29
        ],
        [
         "2021-10-01T00:00:00.000+0000",
         30
        ],
        [
         "2021-11-01T00:00:00.000+0000",
         20
        ],
        [
         "2021-12-01T00:00:00.000+0000",
         26
        ],
        [
         "2022-01-01T00:00:00.000+0000",
         35
        ],
        [
         "2022-02-01T00:00:00.000+0000",
         15
        ],
        [
         "2022-03-01T00:00:00.000+0000",
         19
        ],
        [
         "2022-04-01T00:00:00.000+0000",
         28
        ],
        [
         "2022-05-01T00:00:00.000+0000",
         43
        ],
        [
         "2022-06-01T00:00:00.000+0000",
         36
        ],
        [
         "2022-07-01T00:00:00.000+0000",
         63
        ],
        [
         "2022-08-01T00:00:00.000+0000",
         68
        ],
        [
         "2022-09-01T00:00:00.000+0000",
         75
        ],
        [
         "2022-10-01T00:00:00.000+0000",
         87
        ],
        [
         "2022-11-01T00:00:00.000+0000",
         69
        ],
        [
         "2022-12-01T00:00:00.000+0000",
         90
        ],
        [
         "2023-01-01T00:00:00.000+0000",
         117
        ],
        [
         "2023-02-01T00:00:00.000+0000",
         46
        ],
        [
         "2023-03-01T00:00:00.000+0000",
         79
        ],
        [
         "2023-04-01T00:00:00.000+0000",
         97
        ],
        [
         "2023-05-01T00:00:00.000+0000",
         181
        ],
        [
         "2023-06-01T00:00:00.000+0000",
         227
        ],
        [
         "2023-07-01T00:00:00.000+0000",
         280
        ],
        [
         "2023-08-01T00:00:00.000+0000",
         570
        ],
        [
         "2023-09-01T00:00:00.000+0000",
         931
        ],
        [
         "2023-10-01T00:00:00.000+0000",
         924
        ],
        [
         "2023-11-01T00:00:00.000+0000",
         1165
        ],
        [
         "2023-12-01T00:00:00.000+0000",
         1290
        ],
        [
         "2024-01-01T00:00:00.000+0000",
         198
        ]
       ],
       "datasetInfos": [],
       "dbfsResultPath": null,
       "isJsonSchema": true,
       "metadata": {},
       "overflow": false,
       "plotOptions": {
        "customPlotOptions": {},
        "displayType": "table",
        "pivotAggregation": null,
        "pivotColumns": null,
        "xColumns": null,
        "yColumns": null
       },
       "removedWidgets": [],
       "schema": [
        {
         "metadata": "{}",
         "name": "review_month",
         "type": "\"timestamp\""
        },
        {
         "metadata": "{}",
         "name": "total_reviews",
         "type": "\"long\""
        }
       ],
       "type": "table"
      }
     },
     "output_type": "display_data"
    },
    {
     "output_type": "display_data",
     "data": {
      "text/plain": [
       "Databricks visualization. Run in Databricks to view."
      ]
     },
     "metadata": {
      "application/vnd.databricks.v1.subcommand+json": {
       "baseErrorDetails": null,
       "bindings": {},
       "collapsed": false,
       "command": "%sql WITH q AS (SELECT date_trunc('month', last_review) AS review_month,\n        COUNT(*) AS total_reviews\nFROM airbnb_cleaned\nWHERE last_review IS NOT NULL\nGROUP BY review_month\nORDER BY review_month) SELECT `review_month`,SUM(`total_reviews`) `column_f3c03bfd125` FROM q GROUP BY `review_month`",
       "commandTitle": "Visualization 1",
       "commandType": "auto",
       "commandVersion": 0,
       "commentThread": [],
       "commentsVisible": false,
       "contentSha256Hex": null,
       "customPlotOptions": {
        "redashChart": [
         {
          "key": "type",
          "value": "CHART"
         },
         {
          "key": "options",
          "value": {
           "alignYAxesAtZero": true,
           "coefficient": 1,
           "columnConfigurationMap": {
            "x": {
             "column": "review_month",
             "id": "column_f3c03bfd124"
            },
            "y": [
             {
              "column": "total_reviews",
              "id": "column_f3c03bfd125",
              "transform": "SUM"
             }
            ]
           },
           "dateTimeFormat": "DD/MM/YYYY HH:mm",
           "direction": {
            "type": "counterclockwise"
           },
           "error_y": {
            "type": "data",
            "visible": true
           },
           "globalSeriesType": "line",
           "legend": {
            "traceorder": "normal"
           },
           "missingValuesAsZero": true,
           "numberFormat": "0,0.[00000]",
           "percentFormat": "0[.]00%",
           "series": {
            "error_y": {
             "type": "data",
             "visible": true
            },
            "stacking": null
           },
           "seriesOptions": {
            "column_f3c03bfd125": {
             "name": "total_reviews",
             "yAxis": 0
            }
           },
           "showDataLabels": false,
           "sizemode": "diameter",
           "sortX": true,
           "sortY": true,
           "swappedAxes": false,
           "textFormat": "",
           "useAggregationsUi": true,
           "valuesOptions": {},
           "version": 2,
           "xAxis": {
            "labels": {
             "enabled": true
            },
            "type": "-"
           },
           "yAxis": [
            {
             "type": "-"
            },
            {
             "opposite": true,
             "type": "-"
            }
           ]
          }
         }
        ]
       },
       "datasetPreviewNameToCmdIdMap": {},
       "diffDeletes": [],
       "diffInserts": [],
       "displayType": "redashChart",
       "error": null,
       "errorDetails": null,
       "errorSummary": null,
       "errorTraceType": null,
       "finishTime": 0,
       "globalVars": {},
       "guid": "",
       "height": "auto",
       "hideCommandCode": false,
       "hideCommandResult": false,
       "iPythonMetadata": null,
       "inputWidgets": {},
       "isLockedInExamMode": false,
       "latestUser": "a user",
       "latestUserId": null,
       "listResultMetadata": null,
       "metadata": {},
       "nuid": "c3c4e317-915a-4608-a753-6dc62b6181fa",
       "origId": 0,
       "parentHierarchy": [],
       "pivotAggregation": null,
       "pivotColumns": null,
       "position": 16.0,
       "resultDbfsErrorMessage": null,
       "resultDbfsStatus": "INLINED_IN_TREE",
       "results": null,
       "showCommandTitle": false,
       "startTime": 0,
       "state": "input",
       "streamStates": {},
       "subcommandOptions": {
        "queryPlan": {
         "groups": [
          {
           "column": "review_month",
           "type": "column"
          }
         ],
         "selects": [
          {
           "column": "review_month",
           "type": "column"
          },
          {
           "alias": "column_f3c03bfd125",
           "args": [
            {
             "column": "total_reviews",
             "type": "column"
            }
           ],
           "function": "SUM",
           "type": "function"
          }
         ]
        }
       },
       "submitTime": 0,
       "subtype": "tableResultSubCmd.visualization",
       "tableResultIndex": 0,
       "tableResultSettingsMap": {},
       "useConsistentColors": false,
       "version": "CommandV1",
       "width": "auto",
       "workflows": [],
       "xColumns": null,
       "yColumns": null
      }
     },
     "output_type": "display_data"
    }
   ],
   "source": [
    "%sql\n",
    "SELECT date_trunc('month', last_review) AS review_month,\n",
    "        COUNT(*) AS total_reviews\n",
    "FROM airbnb_cleaned\n",
    "WHERE last_review IS NOT NULL\n",
    "GROUP BY review_month\n",
    "ORDER BY review_month\n"
   ]
  },
  {
   "cell_type": "code",
   "execution_count": 0,
   "metadata": {
    "application/vnd.databricks.v1+cell": {
     "cellMetadata": {},
     "inputWidgets": {},
     "nuid": "28493cac-01f2-4ea7-86ca-12b03a3a381a",
     "showTitle": false,
     "tableResultSettingsMap": {},
     "title": ""
    }
   },
   "outputs": [],
   "source": []
  }
 ],
 "metadata": {
  "application/vnd.databricks.v1+notebook": {
   "computePreferences": null,
   "dashboards": [],
   "environmentMetadata": {
    "base_environment": "",
    "environment_version": "1"
   },
   "inputWidgetPreferences": null,
   "language": "python",
   "notebookMetadata": {
    "mostRecentlyExecutedCommandWithImplicitDF": {
     "commandId": 2368925317205367,
     "dataframes": [
      "_sqldf"
     ]
    },
    "pythonIndentUnit": 4
   },
   "notebookName": "Airbnb Data Engineering End to End Project",
   "widgets": {}
  }
 },
 "nbformat": 4,
 "nbformat_minor": 0
}