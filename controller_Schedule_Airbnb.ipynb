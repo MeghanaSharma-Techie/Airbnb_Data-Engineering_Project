{
 "cells": [
  {
   "cell_type": "markdown",
   "metadata": {
    "application/vnd.databricks.v1+cell": {
     "cellMetadata": {},
     "inputWidgets": {},
     "nuid": "180ea71a-100d-471d-8524-6a7215c7325f",
     "showTitle": false,
     "tableResultSettingsMap": {},
     "title": ""
    }
   },
   "source": [
    "#Run every 5 minutes"
   ]
  },
  {
   "cell_type": "code",
   "execution_count": 0,
   "metadata": {
    "application/vnd.databricks.v1+cell": {
     "cellMetadata": {
      "byteLimit": 2048000,
      "rowLimit": 10000
     },
     "inputWidgets": {},
     "nuid": "34fedde4-32db-4f9c-abfd-d60b25cde73c",
     "showTitle": false,
     "tableResultSettingsMap": {},
     "title": ""
    }
   },
   "outputs": [
    {
     "output_type": "stream",
     "name": "stdout",
     "output_type": "stream",
     "text": [
      "❌ ETL notebook failed: requirement failed: To enable notebook workflows, please upgrade your Databricks subscription.\n"
     ]
    }
   ],
   "source": [
    "try:\n",
    "    result = dbutils.notebook.run(\"Airbnb Data Engineering End to End Project\", 300)\n",
    "    print(f\"✅ ETL notebook ran successfully: {result}\")\n",
    "except Exception as e:\n",
    "    print(f\"❌ ETL notebook failed: {e}\")\n"
   ]
  }
 ],
 "metadata": {
  "application/vnd.databricks.v1+notebook": {
   "computePreferences": null,
   "dashboards": [],
   "environmentMetadata": {
    "base_environment": "",
    "environment_version": "1"
   },
   "inputWidgetPreferences": null,
   "language": "python",
   "notebookMetadata": {
    "pythonIndentUnit": 4
   },
   "notebookName": "controller_Airbnb",
   "widgets": {}
  }
 },
 "nbformat": 4,
 "nbformat_minor": 0
}